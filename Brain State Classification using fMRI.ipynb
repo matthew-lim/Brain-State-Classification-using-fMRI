{
 "cells": [
  {
   "cell_type": "code",
   "execution_count": 10,
   "id": "e500f3ad",
   "metadata": {
    "colab": {
     "base_uri": "https://localhost:8080/"
    },
    "id": "e500f3ad",
    "outputId": "b104cdc0-0368-4664-f987-a7b36bb407e8"
   },
   "outputs": [],
   "source": [
    "import os\n",
    "import numpy as np\n",
    "import cv2\n",
    "import scipy.io as sio\n",
    "import nibabel as nib\n",
    "import matplotlib.pyplot as plt\n",
    "from nibabel.testing import data_path\n",
    "from sklearn.decomposition import PCA\n",
    "from nilearn.masking import compute_epi_mask\n",
    "from nilearn.plotting import plot_roi\n",
    "from sklearn.svm import SVC\n",
    "from sklearn.model_selection import train_test_split\n",
    "from sklearn.preprocessing import StandardScaler\n",
    "from sklearn.pipeline import make_pipeline\n",
    "from sklearn.model_selection import GridSearchCV\n",
    "from sklearn.model_selection import cross_val_score"
   ]
  },
  {
   "cell_type": "code",
   "execution_count": null,
   "id": "6vOyOSHf6FPJ",
   "metadata": {
    "colab": {
     "base_uri": "https://localhost:8080/"
    },
    "id": "6vOyOSHf6FPJ",
    "outputId": "de8ceb7a-dced-4a5e-ff61-c1b696652dd9"
   },
   "outputs": [],
   "source": [
    "from google.colab import drive\n",
    "drive.mount('/content/drive')"
   ]
  },
  {
   "cell_type": "code",
   "execution_count": null,
   "id": "73214ada",
   "metadata": {
    "id": "73214ada"
   },
   "outputs": [],
   "source": [
    "# function for loading the data and transposing the dimensions\n",
    "def load_data(filename):\n",
    "    test_img = nib.load(filename)\n",
    "    test_data = np.array(test_img.dataobj)\n",
    "\n",
    "    # change the shape\n",
    "    test_data = np.transpose(test_data)\n",
    "    \n",
    "    return test_data"
   ]
  },
  {
   "cell_type": "code",
   "execution_count": 5,
   "id": "dae7b70a",
   "metadata": {
    "colab": {
     "base_uri": "https://localhost:8080/",
     "height": 285
    },
    "id": "dae7b70a",
    "outputId": "b45b7a8b-b387-4549-a919-31bec764e0c1"
   },
   "outputs": [
    {
     "name": "stdout",
     "output_type": "stream",
     "text": [
      "(184, 30, 64, 64)\n"
     ]
    },
    {
     "data": {
      "image/png": "[encoded data removed]",
      "text/plain": [
       "<Figure size 432x288 with 1 Axes>"
      ]
     },
     "metadata": {
      "needs_background": "light"
     },
     "output_type": "display_data"
    }
   ],
   "source": [
    "# check the shape of the data\n",
    "test_filename= \"/content/drive/MyDrive/Columbia/1.Courses/2021_Fall/STAT5293/HW/HW3/data/sub-01_ses-test_task-fingerfootlips_bold.nii\"\n",
    "retest_filename= \"/content/drive/MyDrive/Columbia/1.Courses/2021_Fall/STAT5293/HW/HW3/data/sub-01_ses-retest_task-fingerfootlips_bold.nii\"\n",
    "\n",
    "test_data = load_data(test_filename)\n",
    "print(test_data.shape)\n",
    "\n",
    "retest_data = load_data(retest_filename)\n",
    "\n",
    "# plot a slice \n",
    "plt.imshow(test_data[70,6,:,:], cmap='gray');"
   ]
  },
  {
   "cell_type": "code",
   "execution_count": 6,
   "id": "4a979bd1",
   "metadata": {
    "id": "4a979bd1"
   },
   "outputs": [],
   "source": [
    "# function for creating masks\n",
    "def create_mask(data, threshold):\n",
    "    data[data < threshold] = 0\n",
    "    return data"
   ]
  },
  {
   "cell_type": "code",
   "execution_count": 7,
   "id": "B66flWpzJceb",
   "metadata": {
    "colab": {
     "base_uri": "https://localhost:8080/",
     "height": 285
    },
    "id": "B66flWpzJceb",
    "outputId": "5bb700e0-a4a5-42ff-9966-87c752a82657"
   },
   "outputs": [
    {
     "data": {
      "text/plain": [
       "<matplotlib.image.AxesImage at 0x7f940d2bead0>"
      ]
     },
     "execution_count": 7,
     "metadata": {},
     "output_type": "execute_result"
    },
    {
     "data": {
      "image/png": "[encoded data removed]",
      "text/plain": [
       "<Figure size 432x288 with 1 Axes>"
      ]
     },
     "metadata": {
      "needs_background": "light"
     },
     "output_type": "display_data"
    }
   ],
   "source": [
    "# plot the mask to see the difference\n",
    "mask_500 = create_mask(test_data, 500)\n",
    "plt.imshow(mask_500[70,6,:,:], cmap='gray')"
   ]
  },
  {
   "cell_type": "code",
   "execution_count": 8,
   "id": "fd4c41ea",
   "metadata": {
    "colab": {
     "base_uri": "https://localhost:8080/"
    },
    "id": "fd4c41ea",
    "outputId": "db7b3152-0621-4030-ec4e-3544826945bb"
   },
   "outputs": [
    {
     "name": "stdout",
     "output_type": "stream",
     "text": [
      "number of labels: 184\n"
     ]
    }
   ],
   "source": [
    "# get the y values\n",
    "old_labels = sio.loadmat(\"/content/drive/MyDrive/Columbia/1.Courses/2021_Fall/STAT5293/HW/HW3/data/label.mat\")\n",
    "old_labels = old_labels['label']\n",
    "\n",
    "labels = []\n",
    "for label in old_labels:\n",
    "    labels.append(label[0])\n",
    "\n",
    "# check the number of y values equals the number of image dataset\n",
    "print(\"number of labels:\", len(labels))"
   ]
  },
  {
   "cell_type": "code",
   "execution_count": 9,
   "id": "8e1e17fd",
   "metadata": {
    "id": "8e1e17fd"
   },
   "outputs": [],
   "source": [
    "# feature extraction\n",
    "# extract the values of 30 slices into one vector\n",
    "def feature_extraction(data):\n",
    "    vec = data.reshape((184,-1))\n",
    "    return vec"
   ]
  },
  {
   "cell_type": "code",
   "execution_count": 10,
   "id": "srsFFo2z3mPF",
   "metadata": {
    "id": "srsFFo2z3mPF"
   },
   "outputs": [],
   "source": [
    "# main function without PCA\n",
    "def classify(mask):\n",
    "    # extract features\n",
    "    X = feature_extraction(mask)\n",
    "\n",
    "    # SVM\n",
    "    X_train, X_test, y_train, y_test = train_test_split(X, labels, test_size = 0.2)\n",
    "    \n",
    "    svc = SVC()\n",
    "    svc.fit(X_train, y_train)\n",
    "    preds = svc.predict(X_test)\n",
    "    \n",
    "    # k-folds validation\n",
    "    # hypertuning with different C values for SVM using grid search\n",
    "    \n",
    "    params = {\"C\": [100,1000],\n",
    "              \"gamma\": [1e-09]}\n",
    "    gscv = GridSearchCV(svc,\n",
    "                        param_grid = params,\n",
    "                        cv = 5,\n",
    "                        refit = True)\n",
    "    gscv.fit(X_train, y_train)\n",
    "    print(gscv.best_params_)\n",
    "\n",
    "    scores = cross_val_score(gscv.best_estimator_, X_train, y_train, cv=5)\n",
    "    print(\"mean validation accuracy:\", scores.mean())\n",
    "\n",
    "    # use the best model on the test dataset\n",
    "    #print(\"test data accuracy:\", gscv.best_estimator_.score(X_test, y_test))\n",
    "\n",
    "    return gscv.best_params_, scores.mean()"
   ]
  },
  {
   "cell_type": "code",
   "execution_count": 11,
   "id": "tLz3vJmy6YmC",
   "metadata": {
    "id": "tLz3vJmy6YmC"
   },
   "outputs": [],
   "source": [
    "# main function\n",
    "def classify_pca(mask, n):\n",
    "    # extract features\n",
    "    X = feature_extraction(mask)\n",
    "    \n",
    "    # PCA\n",
    "    pca = PCA(n_components=n)\n",
    "    X = pca.fit_transform(X)\n",
    "    \n",
    "    # SVM\n",
    "    X_train, X_test, y_train, y_test = train_test_split(X, labels, test_size = 0.2)\n",
    "    \n",
    "    svc = SVC()\n",
    "    svc.fit(X_train, y_train)\n",
    "    preds = svc.predict(X_test)\n",
    "    \n",
    "    # k-folds validation\n",
    "    # hypertuning with different C values for SVM using grid search\n",
    "\n",
    "    params = {\"C\": np.logspace(0, 10, 11),\n",
    "              \"gamma\": np.logspace(-9, 3, 13)}\n",
    "    gscv = GridSearchCV(svc,\n",
    "                        param_grid = params,\n",
    "                        cv = 5,\n",
    "                        refit = True)\n",
    "    gscv.fit(X_train, y_train)\n",
    "    print(gscv.best_params_)\n",
    "\n",
    "    scores = cross_val_score(gscv.best_estimator_, X_train, y_train, cv=5)\n",
    "    print(\"mean validation accuracy:\", scores.mean())\n",
    "\n",
    "    # use the best model on the test dataset\n",
    "    #print(\"test data accuracy:\", gscv.best_estimator_.score(X_test, y_test))\n",
    "\n",
    "    return gscv.best_params_, scores.mean()"
   ]
  },
  {
   "cell_type": "code",
   "execution_count": 12,
   "id": "qKLEttLY4HHS",
   "metadata": {
    "colab": {
     "base_uri": "https://localhost:8080/"
    },
    "id": "qKLEttLY4HHS",
    "outputId": "68009200-1b7d-495e-8a63-a6c406755bdc"
   },
   "outputs": [
    {
     "name": "stdout",
     "output_type": "stream",
     "text": [
      "threshold: 100\n",
      "{'C': 100, 'gamma': 1e-09}\n",
      "mean validation accuracy: 0.8843678160919539\n",
      "\n",
      "\n",
      "threshold: 200\n",
      "{'C': 100, 'gamma': 1e-09}\n",
      "mean validation accuracy: 0.7687356321839081\n",
      "\n",
      "\n",
      "threshold: 300\n",
      "{'C': 100, 'gamma': 1e-09}\n",
      "mean validation accuracy: 0.7963218390804597\n",
      "\n",
      "\n",
      "threshold: 400\n",
      "{'C': 100, 'gamma': 1e-09}\n",
      "mean validation accuracy: 0.8363218390804598\n",
      "\n",
      "\n",
      "threshold: 500\n",
      "{'C': 100, 'gamma': 1e-09}\n",
      "mean validation accuracy: 0.7827586206896552\n",
      "\n",
      "\n"
     ]
    }
   ],
   "source": [
    "# hyperparameter tuning with different parameters without PCA (test dataset)\n",
    "# 1. threshold, 2. C(SVM), 3. gamma(SVM)\n",
    "thresholds = [100, 200, 300, 400, 500]\n",
    "\n",
    "scores_test = []\n",
    "for threshold in thresholds:\n",
    "    mask = create_mask(test_data, threshold)\n",
    "    print(\"threshold:\", threshold)\n",
    "    score = classify(mask)\n",
    "    print(\"\\n\")\n",
    "    \n",
    "    scores_test.append((threshold, score))"
   ]
  },
  {
   "cell_type": "code",
   "execution_count": 13,
   "id": "ChA4qlNM7lk8",
   "metadata": {
    "colab": {
     "base_uri": "https://localhost:8080/"
    },
    "id": "ChA4qlNM7lk8",
    "outputId": "f8b8eec8-d601-44ab-fb78-9ea0bb1b5122"
   },
   "outputs": [
    {
     "name": "stdout",
     "output_type": "stream",
     "text": [
      "threshold: 100 , n_components: 10\n",
      "{'C': 100000.0, 'gamma': 1e-09}\n",
      "mean validation accuracy: 0.74183908045977\n",
      "\n",
      "\n",
      "threshold: 100 , n_components: 50\n",
      "{'C': 1000.0, 'gamma': 1e-09}\n",
      "mean validation accuracy: 0.8308045977011493\n",
      "\n",
      "\n",
      "threshold: 100 , n_components: 100\n",
      "{'C': 1000.0, 'gamma': 1e-09}\n",
      "mean validation accuracy: 0.8160919540229885\n",
      "\n",
      "\n",
      "threshold: 200 , n_components: 10\n",
      "{'C': 10000.0, 'gamma': 1e-09}\n",
      "mean validation accuracy: 0.789655172413793\n",
      "\n",
      "\n",
      "threshold: 200 , n_components: 50\n",
      "{'C': 1000.0, 'gamma': 1e-09}\n",
      "mean validation accuracy: 0.8094252873563217\n",
      "\n",
      "\n",
      "threshold: 200 , n_components: 100\n",
      "{'C': 100.0, 'gamma': 1e-09}\n",
      "mean validation accuracy: 0.843448275862069\n",
      "\n",
      "\n",
      "threshold: 300 , n_components: 10\n",
      "{'C': 10000.0, 'gamma': 1e-09}\n",
      "mean validation accuracy: 0.7480459770114942\n",
      "\n",
      "\n",
      "threshold: 300 , n_components: 50\n",
      "{'C': 1000.0, 'gamma': 1e-09}\n",
      "mean validation accuracy: 0.7758620689655171\n",
      "\n",
      "\n",
      "threshold: 300 , n_components: 100\n",
      "{'C': 1000.0, 'gamma': 1e-09}\n",
      "mean validation accuracy: 0.8841379310344827\n",
      "\n",
      "\n",
      "threshold: 400 , n_components: 10\n",
      "{'C': 1000.0, 'gamma': 1e-08}\n",
      "mean validation accuracy: 0.7891954022988507\n",
      "\n",
      "\n",
      "threshold: 400 , n_components: 50\n",
      "{'C': 1000.0, 'gamma': 1e-09}\n",
      "mean validation accuracy: 0.8154022988505748\n",
      "\n",
      "\n",
      "threshold: 400 , n_components: 100\n",
      "{'C': 10.0, 'gamma': 1e-08}\n",
      "mean validation accuracy: 0.7958620689655171\n",
      "\n",
      "\n",
      "threshold: 500 , n_components: 10\n",
      "{'C': 10000.0, 'gamma': 1e-08}\n",
      "mean validation accuracy: 0.7547126436781608\n",
      "\n",
      "\n",
      "threshold: 500 , n_components: 50\n",
      "{'C': 1000.0, 'gamma': 1e-09}\n",
      "mean validation accuracy: 0.8229885057471265\n",
      "\n",
      "\n",
      "threshold: 500 , n_components: 100\n",
      "{'C': 100.0, 'gamma': 1e-09}\n",
      "mean validation accuracy: 0.8294252873563218\n",
      "\n",
      "\n"
     ]
    }
   ],
   "source": [
    "# hyperparameter tuning with different parameters with PCA (test dataset)\n",
    "# 1. threshold, 2. n_components(PCA), 3. C(SVM), 4. gamma(SVM)\n",
    "thresholds = [100, 200, 300, 400, 500]\n",
    "n_components = [10, 50 ,100]\n",
    "\n",
    "scores_test_pca = []\n",
    "for threshold in thresholds:\n",
    "    mask = create_mask(test_data, threshold)\n",
    "    for n in n_components:\n",
    "        print(\"threshold:\", threshold, \", n_components:\", n)\n",
    "        score = classify_pca(mask, n)\n",
    "        print(\"\\n\")\n",
    "\n",
    "        scores_test_pca.append((threshold, n, score))"
   ]
  },
  {
   "cell_type": "code",
   "execution_count": 14,
   "id": "QAvKxdzD6pAy",
   "metadata": {
    "colab": {
     "base_uri": "https://localhost:8080/"
    },
    "id": "QAvKxdzD6pAy",
    "outputId": "580307ef-14ea-49c6-cebc-05267a77a339"
   },
   "outputs": [
    {
     "name": "stdout",
     "output_type": "stream",
     "text": [
      "threshold: 100\n",
      "{'C': 100, 'gamma': 1e-09}\n",
      "mean validation accuracy: 0.6873563218390805\n",
      "\n",
      "\n",
      "threshold: 200\n",
      "{'C': 100, 'gamma': 1e-09}\n",
      "mean validation accuracy: 0.7004597701149425\n",
      "\n",
      "\n",
      "threshold: 300\n",
      "{'C': 100, 'gamma': 1e-09}\n",
      "mean validation accuracy: 0.6933333333333334\n",
      "\n",
      "\n",
      "threshold: 400\n",
      "{'C': 100, 'gamma': 1e-09}\n",
      "mean validation accuracy: 0.6813793103448276\n",
      "\n",
      "\n",
      "threshold: 500\n",
      "{'C': 100, 'gamma': 1e-09}\n",
      "mean validation accuracy: 0.7073563218390805\n",
      "\n",
      "\n"
     ]
    }
   ],
   "source": [
    "# hyperparameter tuning with different parameters without PCA (retest dataset)\n",
    "# 1. threshold, 2. C(SVM), 3. gamma(SVM)\n",
    "thresholds = [100, 200, 300, 400, 500]\n",
    "\n",
    "scores_retest = []\n",
    "for threshold in thresholds:\n",
    "    mask = create_mask(retest_data, threshold)\n",
    "    print(\"threshold:\", threshold)\n",
    "    score = classify(mask)\n",
    "    print(\"\\n\")\n",
    "\n",
    "    scores_retest.append((threshold, score))"
   ]
  },
  {
   "cell_type": "code",
   "execution_count": 15,
   "id": "MkyfUjO1-4IS",
   "metadata": {
    "colab": {
     "base_uri": "https://localhost:8080/"
    },
    "id": "MkyfUjO1-4IS",
    "outputId": "0928a55e-f536-4e38-ff2b-73e8ce8d8072"
   },
   "outputs": [
    {
     "name": "stdout",
     "output_type": "stream",
     "text": [
      "threshold: 100 , n_components: 10\n",
      "{'C': 100000.0, 'gamma': 1e-09}\n",
      "mean validation accuracy: 0.6193103448275863\n",
      "\n",
      "\n",
      "threshold: 100 , n_components: 50\n",
      "{'C': 100.0, 'gamma': 1e-09}\n",
      "mean validation accuracy: 0.7004597701149425\n",
      "\n",
      "\n",
      "threshold: 100 , n_components: 100\n",
      "{'C': 100.0, 'gamma': 1e-09}\n",
      "mean validation accuracy: 0.7473563218390804\n",
      "\n",
      "\n",
      "threshold: 200 , n_components: 10\n",
      "{'C': 1000.0, 'gamma': 1e-09}\n",
      "mean validation accuracy: 0.6671264367816091\n",
      "\n",
      "\n",
      "threshold: 200 , n_components: 50\n",
      "{'C': 10.0, 'gamma': 1e-08}\n",
      "mean validation accuracy: 0.7222988505747127\n",
      "\n",
      "\n",
      "threshold: 200 , n_components: 100\n",
      "{'C': 1000.0, 'gamma': 1e-09}\n",
      "mean validation accuracy: 0.7354022988505747\n",
      "\n",
      "\n",
      "threshold: 300 , n_components: 10\n",
      "{'C': 100000.0, 'gamma': 1e-09}\n",
      "mean validation accuracy: 0.6193103448275863\n",
      "\n",
      "\n",
      "threshold: 300 , n_components: 50\n",
      "{'C': 1000.0, 'gamma': 1e-09}\n",
      "mean validation accuracy: 0.6928735632183909\n",
      "\n",
      "\n",
      "threshold: 300 , n_components: 100\n",
      "{'C': 1000.0, 'gamma': 1e-09}\n",
      "mean validation accuracy: 0.7416091954022989\n",
      "\n",
      "\n",
      "threshold: 400 , n_components: 10\n",
      "{'C': 100.0, 'gamma': 1e-08}\n",
      "mean validation accuracy: 0.64\n",
      "\n",
      "\n",
      "threshold: 400 , n_components: 50\n",
      "{'C': 1000.0, 'gamma': 1e-09}\n",
      "mean validation accuracy: 0.6599999999999999\n",
      "\n",
      "\n",
      "threshold: 400 , n_components: 100\n",
      "{'C': 100.0, 'gamma': 1e-09}\n",
      "mean validation accuracy: 0.741609195402299\n",
      "\n",
      "\n",
      "threshold: 500 , n_components: 10\n",
      "{'C': 10000.0, 'gamma': 1e-09}\n",
      "mean validation accuracy: 0.6799999999999999\n",
      "\n",
      "\n",
      "threshold: 500 , n_components: 50\n",
      "{'C': 1000.0, 'gamma': 1e-09}\n",
      "mean validation accuracy: 0.7625287356321839\n",
      "\n",
      "\n",
      "threshold: 500 , n_components: 100\n",
      "{'C': 100.0, 'gamma': 1e-09}\n",
      "mean validation accuracy: 0.7680459770114942\n",
      "\n",
      "\n"
     ]
    }
   ],
   "source": [
    "# hyperparameter tuning with different parameters (retest dataset)\n",
    "# 1. threshold, 2. n_components(PCA), 3. C(SVM), 4. gamma(SVM)\n",
    "thresholds = [100, 200, 300, 400, 500]\n",
    "n_components = [10, 50 ,100]\n",
    "\n",
    "scores_retest_pca = []\n",
    "for threshold in thresholds:\n",
    "    mask = create_mask(retest_data, threshold)\n",
    "    for n in n_components:\n",
    "        print(\"threshold:\", threshold, \", n_components:\", n)\n",
    "        score = classify_pca(mask, n)\n",
    "        print(\"\\n\")\n",
    "\n",
    "        scores_retest_pca.append((threshold, n, score))"
   ]
  },
  {
   "cell_type": "code",
   "execution_count": 16,
   "id": "6DidB3gogAju",
   "metadata": {
    "id": "6DidB3gogAju"
   },
   "outputs": [],
   "source": [
    "# function for getting the best score\n",
    "def best_score(score_list):\n",
    "    max_score = max([sublist[-1][-1] for sublist in score_list])\n",
    "    \n",
    "    for i, sublist in enumerate(score_list):\n",
    "        if max_score in sublist[-1]:\n",
    "            best_param = score_list[i]\n",
    "            break\n",
    "    \n",
    "    return best_param"
   ]
  },
  {
   "cell_type": "code",
   "execution_count": 17,
   "id": "QeJHpOwTUCfp",
   "metadata": {
    "colab": {
     "base_uri": "https://localhost:8080/"
    },
    "id": "QeJHpOwTUCfp",
    "outputId": "008caeaa-e184-4a87-ca88-90dd6c471b99"
   },
   "outputs": [
    {
     "name": "stdout",
     "output_type": "stream",
     "text": [
      "Model without PCA on ses-test \n",
      " (100, ({'C': 100, 'gamma': 1e-09}, 0.8843678160919539))\n",
      "Model with PCA on ses-test \n",
      " (300, 100, ({'C': 1000.0, 'gamma': 1e-09}, 0.8841379310344827))\n",
      "Model without PCA on ses-retest \n",
      " (500, ({'C': 100, 'gamma': 1e-09}, 0.7073563218390805))\n",
      "Model with PCA on ses-retest \n",
      " (500, 100, ({'C': 100.0, 'gamma': 1e-09}, 0.7680459770114942))\n"
     ]
    }
   ],
   "source": [
    "# overall result summary\n",
    "print(\"Model without PCA on ses-test \\n\", best_score(scores_test))\n",
    "print(\"Model with PCA on ses-test \\n\", best_score(scores_test_pca))\n",
    "print(\"Model without PCA on ses-retest \\n\", best_score(scores_retest))\n",
    "print(\"Model with PCA on ses-retest \\n\", best_score(scores_retest_pca))"
   ]
  },
  {
   "cell_type": "code",
   "execution_count": 18,
   "id": "GFVr1SjoAd7P",
   "metadata": {
    "colab": {
     "base_uri": "https://localhost:8080/",
     "height": 140
    },
    "id": "GFVr1SjoAd7P",
    "outputId": "7cd0f6ad-2a7e-4b98-8fdf-197dc74f7271"
   },
   "outputs": [
    {
     "data": {
      "application/vnd.google.colaboratory.intrinsic+json": {
       "type": "string"
      },
      "text/plain": [
       "'\\n# Extra Credit\\n# best params were threshold=500, n_components=50, C=100, gamma=1e-09\\nthreshold = 100\\nn = 100\\nC= 100\\ngamma = 1e-09\\nmask = create_mask(test_data, threshold)\\nX = feature_extraction(mask)\\n\\n# PCA\\n#pca = PCA(n_components=n)\\n#X = pca.fit_transform(X)\\n\\n# SVM\\nX_train, X_test, y_train, y_test = train_test_split(X, labels, test_size = 0.2)\\n\\nsvc = SVC(C=100, gamma = 1e-09)\\nsvc.fit(X_train, y_train)\\n\\n# load retest data with threshold=500\\n# dimension reduction with n_components=50\\n\\nmask_test = create_mask(retest_data, threshold)\\nX_retest = feature_extraction(mask_test)\\n\\n#pca = PCA(n_components=n)\\n#X_retest = pca.fit_transform(X_retest)\\npreds = svc.predict(X_retest)\\n\\nmetrics.accuracy_score(preds, labels)\\n\\n#scores = cross_val_score(svc, X_retest, labels, cv=5)\\n#print(\"k-folds accuracy:\", scores.mean())\\n'"
      ]
     },
     "execution_count": 18,
     "metadata": {},
     "output_type": "execute_result"
    }
   ],
   "source": [
    "\"\"\"\n",
    "# Extra Credit\n",
    "# best params were threshold=500, n_components=50, C=100, gamma=1e-09\n",
    "threshold = 100\n",
    "n = 100\n",
    "C= 100\n",
    "gamma = 1e-09\n",
    "mask = create_mask(test_data, threshold)\n",
    "X = feature_extraction(mask)\n",
    "\n",
    "# PCA\n",
    "#pca = PCA(n_components=n)\n",
    "#X = pca.fit_transform(X)\n",
    "\n",
    "# SVM\n",
    "X_train, X_test, y_train, y_test = train_test_split(X, labels, test_size = 0.2)\n",
    "\n",
    "svc = SVC(C=100, gamma = 1e-09)\n",
    "svc.fit(X_train, y_train)\n",
    "\n",
    "# load retest data with threshold=500\n",
    "# dimension reduction with n_components=50\n",
    "\n",
    "mask_test = create_mask(retest_data, threshold)\n",
    "X_retest = feature_extraction(mask_test)\n",
    "\n",
    "#pca = PCA(n_components=n)\n",
    "#X_retest = pca.fit_transform(X_retest)\n",
    "preds = svc.predict(X_retest)\n",
    "\n",
    "metrics.accuracy_score(preds, labels)\n",
    "\n",
    "#scores = cross_val_score(svc, X_retest, labels, cv=5)\n",
    "#print(\"k-folds accuracy:\", scores.mean())\n",
    "\"\"\""
   ]
  },
  {
   "cell_type": "code",
   "execution_count": 19,
   "id": "Y6NhrLeMIXEd",
   "metadata": {
    "colab": {
     "base_uri": "https://localhost:8080/",
     "height": 157
    },
    "id": "Y6NhrLeMIXEd",
    "outputId": "09e3e193-4b5d-444f-95e3-181a5df7bd0a"
   },
   "outputs": [
    {
     "data": {
      "application/vnd.google.colaboratory.intrinsic+json": {
       "type": "string"
      },
      "text/plain": [
       "'\\n# main function\\ndef classify(mask):\\n    # extract features\\n    X = feature_extraction(mask)\\n    \\n    # SVM\\n    X_train, X_test, y_train, y_test = train_test_split(X, labels, test_size = 0.2)\\n    \\n    pipe = make_pipeline(PCA(), SVC()) # standardize values\\n    pipe.fit(X_train, y_train)\\n    preds = pipe.predict(X_test)\\n    \\n    # k-folds validation\\n    # hypertuning with different C values for SVM using grid search\\n\\n    params = {\"pca__n_components\": np.array(range(10,110,10)),\\n              \"svc__C\": np.logspace(0, 10, 11),\\n              \"svc__gamma\": np.logspace(-9, 3, 13)}\\n    gscv = GridSearchCV(pipe,\\n                        param_grid = params,\\n                        cv = 5,\\n                        refit = True)\\n    gscv.fit(X_train, y_train)\\n    print(gscv.best_params_)\\n\\n    scores = cross_val_score(gscv.best_estimator_, X_train, y_train, cv=5)\\n    print(\"k-folds accuracy:\", scores.mean())\\n\\n    # use the best model on the test dataset\\n    print(\"test data accuracy:\", gscv.best_estimator_.score(X_test, y_test))\\n'"
      ]
     },
     "execution_count": 19,
     "metadata": {},
     "output_type": "execute_result"
    }
   ],
   "source": [
    "# tried creating a function with pipeline to implement different n_components for PCA values \n",
    "# but the code took too long for some reason, so I just used a for loop\n",
    "\"\"\"\n",
    "# main function\n",
    "def classify(mask):\n",
    "    # extract features\n",
    "    X = feature_extraction(mask)\n",
    "    \n",
    "    # SVM\n",
    "    X_train, X_test, y_train, y_test = train_test_split(X, labels, test_size = 0.2)\n",
    "    \n",
    "    pipe = make_pipeline(PCA(), SVC()) # standardize values\n",
    "    pipe.fit(X_train, y_train)\n",
    "    preds = pipe.predict(X_test)\n",
    "    \n",
    "    # k-folds validation\n",
    "    # hypertuning with different C values for SVM using grid search\n",
    "\n",
    "    params = {\"pca__n_components\": np.array(range(10,110,10)),\n",
    "              \"svc__C\": np.logspace(0, 10, 11),\n",
    "              \"svc__gamma\": np.logspace(-9, 3, 13)}\n",
    "    gscv = GridSearchCV(pipe,\n",
    "                        param_grid = params,\n",
    "                        cv = 5,\n",
    "                        refit = True)\n",
    "    gscv.fit(X_train, y_train)\n",
    "    print(gscv.best_params_)\n",
    "\n",
    "    scores = cross_val_score(gscv.best_estimator_, X_train, y_train, cv=5)\n",
    "    print(\"k-folds accuracy:\", scores.mean())\n",
    "\n",
    "    # use the best model on the test dataset\n",
    "    print(\"test data accuracy:\", gscv.best_estimator_.score(X_test, y_test))\n",
    "\"\"\""
   ]
  },
  {
   "cell_type": "code",
   "execution_count": 19,
   "id": "4CmV0jv-Uu0i",
   "metadata": {
    "id": "4CmV0jv-Uu0i"
   },
   "outputs": [],
   "source": []
  }
 ],
 "metadata": {
  "accelerator": "GPU",
  "colab": {
   "collapsed_sections": [],
   "name": "sl4500_LIM_Assignment3.ipynb",
   "provenance": []
  },
  "kernelspec": {
   "display_name": "Python 3 (ipykernel)",
   "language": "python",
   "name": "python3"
  },
  "language_info": {
   "codemirror_mode": {
    "name": "ipython",
    "version": 3
   },
   "file_extension": ".py",
   "mimetype": "text/x-python",
   "name": "python",
   "nbconvert_exporter": "python",
   "pygments_lexer": "ipython3",
   "version": "3.9.12"
  }
 },
 "nbformat": 4,
 "nbformat_minor": 5
}
